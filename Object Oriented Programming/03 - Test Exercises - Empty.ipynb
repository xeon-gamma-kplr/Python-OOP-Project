{
 "cells": [
  {
   "cell_type": "markdown",
   "id": "018f51b4",
   "metadata": {},
   "source": [
    "# Test Exercises"
   ]
  },
  {
   "cell_type": "markdown",
   "id": "d77460b0",
   "metadata": {},
   "source": [
    "### Exercise 1\n",
    "\n",
    "Create a `class` for a book called `Book`.\n",
    "\n",
    "The attributes should be.\n",
    "- `title`\n",
    "- `author`\n",
    "- `pages`\n",
    "\n",
    "Try it out."
   ]
  },
  {
   "cell_type": "code",
   "execution_count": 5,
   "id": "f33f470f",
   "metadata": {},
   "outputs": [],
   "source": [
    "class Book:\n",
    "    def __init__(self,title, author, pages):\n",
    "        self.title = title\n",
    "        self.author = author\n",
    "        self.pages = pages\n"
   ]
  },
  {
   "cell_type": "code",
   "execution_count": null,
   "id": "862e0298",
   "metadata": {},
   "outputs": [],
   "source": []
  },
  {
   "cell_type": "code",
   "execution_count": null,
   "id": "3ef86d2e",
   "metadata": {},
   "outputs": [],
   "source": []
  },
  {
   "cell_type": "markdown",
   "id": "9813e500",
   "metadata": {},
   "source": [
    "### Exercise 2\n",
    "\n",
    "Continue with the `Book` class.\n",
    "\n",
    "- Add get and set methods for the title.\n",
    "- Add a `__str__` method for a string representation of the class.\n",
    "\n",
    "Try it out."
   ]
  },
  {
   "cell_type": "code",
   "execution_count": 11,
   "id": "18f7a816",
   "metadata": {},
   "outputs": [],
   "source": [
    "class Book:\n",
    "    def __init__(self,title, author, pages = []):\n",
    "        self.title = title\n",
    "        self.author = author\n",
    "        self.pages = pages\n",
    "    def get_title(self):\n",
    "        return self.title\n",
    "    def set_title(self, title):\n",
    "        self.title = title\n",
    "    def __str__(self):\n",
    "        return(f\"{self.title} de {self.author} , nombre de pages: {len(self.pages)}\")\n",
    "\n"
   ]
  },
  {
   "cell_type": "code",
   "execution_count": 12,
   "id": "02e2bc00",
   "metadata": {},
   "outputs": [
    {
     "name": "stdout",
     "output_type": "stream",
     "text": [
      "le livre de Mark , nombre de pages: 0\n"
     ]
    }
   ],
   "source": [
    "livre_1 = Book(\"le livre\", \"Mark\")\n",
    "print(livre_1)"
   ]
  },
  {
   "cell_type": "code",
   "execution_count": null,
   "id": "dd0c77e7",
   "metadata": {},
   "outputs": [],
   "source": []
  },
  {
   "cell_type": "markdown",
   "id": "57e274d1",
   "metadata": {},
   "source": [
    "### Exercise 3 (Challenging)\n",
    "\n",
    "Continue with the `Book` class\n",
    "\n",
    "- Add a `__lt__` method that compares to objects.\n",
    "\n",
    "Create a list of books, sort it, and see it works."
   ]
  },
  {
   "cell_type": "code",
   "execution_count": 77,
   "id": "08ceca17",
   "metadata": {},
   "outputs": [],
   "source": [
    "class Book:\n",
    "    def __init__(self,title, author, pages = []):\n",
    "        self.title = title\n",
    "        self.author = author\n",
    "        self.pages = pages\n",
    "    def get_title(self):\n",
    "        return self.title\n",
    "    def set_title(self, title):\n",
    "        self.title = title\n",
    "    def __str__(self):\n",
    "        return(f\"{self.title} de {self.author} , nombre de pages: {len(self.pages)}\")\n",
    "    def __repr__(self):\n",
    "        return(f\"{self.title} de {self.author} , nombre de pages: {len(self.pages)}\")\n",
    "    def __lt__(self, other):\n",
    "        return self.title > other.title\n",
    "    def __eq__(self, other):\n",
    "        return len(self.pages) == len(other.pages) and self.title == other.title and self.author == other.author\n",
    "\n"
   ]
  },
  {
   "cell_type": "code",
   "execution_count": 84,
   "id": "c9f80062",
   "metadata": {},
   "outputs": [],
   "source": [
    "book_list = [Book(\"live 1\", \"auteur 1\", [1,2,3]), Book(\"live 2\", \"auteur 2\", [1,2]), Book(\"live 3\", \"auteur 3\")]"
   ]
  },
  {
   "cell_type": "code",
   "execution_count": 83,
   "id": "44f29f12",
   "metadata": {},
   "outputs": [
    {
     "name": "stdout",
     "output_type": "stream",
     "text": [
      "[3, 2, 1]\n"
     ]
    }
   ],
   "source": [
    "book_list.sort()\n",
    "print([x.title for x in book_list])"
   ]
  },
  {
   "cell_type": "code",
   "execution_count": 75,
   "id": "17dd9644",
   "metadata": {},
   "outputs": [
    {
     "name": "stdout",
     "output_type": "stream",
     "text": [
      "True\n"
     ]
    }
   ],
   "source": [
    "b1,b2 =(Book(\"live 1\", \"auteur 1\", [1,2,3]), Book(\"live 2\", \"auteur 2\", [1,2]))\n",
    "\n",
    "print(b1 < b2)"
   ]
  }
 ],
 "metadata": {
  "kernelspec": {
   "display_name": "Python 3 (ipykernel)",
   "language": "python",
   "name": "python3"
  },
  "language_info": {
   "codemirror_mode": {
    "name": "ipython",
    "version": 3
   },
   "file_extension": ".py",
   "mimetype": "text/x-python",
   "name": "python",
   "nbconvert_exporter": "python",
   "pygments_lexer": "ipython3",
   "version": "3.10.4"
  }
 },
 "nbformat": 4,
 "nbformat_minor": 5
}
